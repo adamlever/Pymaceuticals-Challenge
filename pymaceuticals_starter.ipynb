{
 "cells": [
  {
   "cell_type": "markdown",
   "metadata": {},
   "source": [
    "## Observations and Insights "
   ]
  },
  {
   "cell_type": "markdown",
   "metadata": {},
   "source": []
  },
  {
   "cell_type": "code",
   "execution_count": null,
   "metadata": {},
   "outputs": [],
   "source": [
    "# Dependencies and Setup\n",
    "import matplotlib.pyplot as plt\n",
    "import pandas as pd\n",
    "import scipy.stats as st\n",
    "import numpy as np\n",
    "\n",
    "# Study data files\n",
    "mouse_metadata_path = \"data/Mouse_metadata.csv\"\n",
    "study_results_path = \"data/Study_results.csv\"\n",
    "\n",
    "# Read the mouse data and the study results\n",
    "mouse_metadata = pd.read_csv(mouse_metadata_path)\n",
    "study_results = pd.read_csv(study_results_path)\n",
    "\n",
    "# Combine the data into a single dataset\n",
    "combined_data_df = pd.merge(mouse_metadata, study_results, how='outer', on=\"Mouse ID\") \n",
    "\n",
    "# Display the data table in a preview\n",
    "combined_data_df.head()"
   ]
  },
  {
   "cell_type": "code",
   "execution_count": null,
   "metadata": {},
   "outputs": [],
   "source": [
    "# Checking the number of mice by counting the unique values\n",
    "combined_data_df['Mouse ID'].nunique()"
   ]
  },
  {
   "cell_type": "code",
   "execution_count": null,
   "metadata": {},
   "outputs": [],
   "source": [
    "# Count values of dataframe\n",
    "combined_data_df.count()"
   ]
  },
  {
   "cell_type": "code",
   "execution_count": null,
   "metadata": {},
   "outputs": [],
   "source": [
    "# Getting the duplicate mice by ID number that shows up for Mouse ID and Timepoint.\n",
    "# Optional: Get all the data for the duplicate mouse ID. \n",
    "duplicates_df = combined_data_df[combined_data_df.duplicated(subset=['Mouse ID', 'Timepoint'], keep=False)]\n",
    "\n",
    "# Show dataframe\n",
    "duplicates_df"
   ]
  },
  {
   "cell_type": "code",
   "execution_count": null,
   "metadata": {},
   "outputs": [],
   "source": [
    "# Create a clean DataFrame by dropping the duplicate mouse by its ID.\n",
    "clean_combined_data_df = combined_data_df[combined_data_df['Mouse ID'] != 'g989']\n",
    "\n",
    "# Show dataframe\n",
    "clean_combined_data_df"
   ]
  },
  {
   "cell_type": "code",
   "execution_count": null,
   "metadata": {},
   "outputs": [],
   "source": [
    "# Checking the number of mice in the clean DataFrame.\n",
    "clean_combined_data_df['Mouse ID'].nunique()"
   ]
  },
  {
   "cell_type": "markdown",
   "metadata": {},
   "source": [
    "## Summary Statistics"
   ]
  },
  {
   "cell_type": "code",
   "execution_count": null,
   "metadata": {},
   "outputs": [],
   "source": [
    "# Generate a summary statistics table of mean, median, variance, standard deviation, and SEM of the tumor volume for each regimen\n",
    "# Calculate statistics\n",
    "mean = clean_combined_data_df.groupby('Drug Regimen')[\"Tumor Volume (mm3)\"].mean()\n",
    "median = clean_combined_data_df.groupby('Drug Regimen')[\"Tumor Volume (mm3)\"].median()\n",
    "variance = clean_combined_data_df.groupby('Drug Regimen')[\"Tumor Volume (mm3)\"].var()\n",
    "std = clean_combined_data_df.groupby('Drug Regimen')[\"Tumor Volume (mm3)\"].std()\n",
    "sem = clean_combined_data_df.groupby('Drug Regimen')[\"Tumor Volume (mm3)\"].sem()\n",
    "\n",
    "# Create a dataframe to hold statistics\n",
    "statistics_df = pd.DataFrame({'Mean':mean, \n",
    "                              'Median':median, \n",
    "                              'Variance':variance, \n",
    "                              'Standard Deviation':std, \n",
    "                              'SEM':sem})\n",
    "\n",
    "statistics_df = statistics_df.rename(columns={\"Mean\":\"Mean Tumor Volume\", \n",
    "                                              \"Median\":\"Median Tumor Volume\",\n",
    "                                              \"Variance\":\"Tumor Volume Variance\",\n",
    "                                              \"Standard Deviation\":\"Tumor Volume Std. Dev\",\n",
    "                                              \"SEM\":\"Tumor Volume Std. Err.\"})\n",
    "\n",
    "# Show dataframe\n",
    "statistics_df\n",
    "\n",
    "# This method is the most straighforward, creating multiple series and putting them all together at the end."
   ]
  },
  {
   "cell_type": "code",
   "execution_count": null,
   "metadata": {},
   "outputs": [],
   "source": [
    "# Generate a summary statistics table of mean, median, variance, standard deviation, and SEM of the tumor volume for each regimen\n",
    "summary_statistics_df = clean_combined_data_df.groupby(\"Drug Regimen\").agg({\"Tumor Volume (mm3)\":\n",
    "                                                                            [\"mean\",\"median\",\"var\",\"std\",\"sem\"]})\n",
    "\n",
    "# Show dataframe\n",
    "summary_statistics_df\n",
    "\n",
    "# This method produces everything in a single groupby function"
   ]
  },
  {
   "cell_type": "code",
   "execution_count": null,
   "metadata": {},
   "outputs": [],
   "source": [
    "# Generate a summary statistics table of mean, median, variance, standard deviation, and SEM of the tumor volume for each regimen\n",
    "summary_statistics2_df = clean_combined_data_df.groupby('Drug Regimen')\n",
    "\n",
    "# Calculate statistics\n",
    "tumor_mean = summary_statistics2_df[\"Tumor Volume (mm3)\"].mean()\n",
    "tumor_median = summary_statistics2_df[\"Tumor Volume (mm3)\"].median()\n",
    "tumor_var = summary_statistics2_df[\"Tumor Volume (mm3)\"].var()\n",
    "tumor_std = summary_statistics2_df[\"Tumor Volume (mm3)\"].std()\n",
    "tumor_sem = summary_statistics2_df[\"Tumor Volume (mm3)\"].sem()\n",
    "\n",
    "# Create a dataframe to hold statistics\n",
    "summary_statistics2_df = pd.DataFrame({'Mean':tumor_mean, \n",
    "                                      'Median':tumor_median, 'Variance':tumor_var, \n",
    "                                      'Standard Deviation':tumor_std, \n",
    "                                      'SEM':tumor_sem})\n",
    "\n",
    "summary_statistics2_df = summary_statistics2_df.rename(columns={\"Mean\":\"Mean Tumor Volume\", \n",
    "                                                                \"Median\":\"Median Tumor Volume\",\n",
    "                                                                \"Variance\":\"Tumor Volume Variance\",\n",
    "                                                                \"Standard Deviation\":\"Tumor Volume Std. Dev\",\n",
    "                                                                \"SEM\":\"Tumor Volume Std. Err.\"})\n",
    "\n",
    "# Show dataframe\n",
    "summary_statistics2_df\n",
    "\n",
    "# This is another method produces everything in a single groupby function"
   ]
  },
  {
   "cell_type": "markdown",
   "metadata": {},
   "source": [
    "## Bar and Pie Charts"
   ]
  },
  {
   "cell_type": "code",
   "execution_count": null,
   "metadata": {},
   "outputs": [],
   "source": [
    "# Group the cleaned data by Drug Regimen and show the number of unique mice that each drug was used in tumor treatment\n",
    "mice_drug_group = clean_combined_data_df.groupby('Drug Regimen')\n",
    "number_mice_drug = mice_drug_group[\"Mouse ID\"].nunique()\n",
    "\n",
    "# Show series\n",
    "number_mice_drug"
   ]
  },
  {
   "cell_type": "code",
   "execution_count": null,
   "metadata": {},
   "outputs": [],
   "source": [
    "# Create a Dataframe from this series\n",
    "number_mice_drug_df = pd.DataFrame({\"Number of Mice\": number_mice_drug})\n",
    "\n",
    "# Show dataframe\n",
    "number_mice_drug_df"
   ]
  },
  {
   "cell_type": "code",
   "execution_count": null,
   "metadata": {},
   "outputs": [],
   "source": [
    "# Create a bar chart from the previously created series\n",
    "mice_drug_bar = number_mice_drug.plot(kind='bar')\n",
    "\n",
    "# Set main, x and y titles\n",
    "plt.title(\"Number of Mice for Each Treatment\")\n",
    "plt.xlabel(\"Drug Regimen\")\n",
    "plt.ylabel(\"Number of Mice\")\n",
    "\n",
    "# Format bar plot\n",
    "plt.tight_layout()\n",
    "\n",
    "# Show bar plot\n",
    "plt.show()"
   ]
  },
  {
   "cell_type": "code",
   "execution_count": null,
   "metadata": {},
   "outputs": [],
   "source": [
    "# Specify x and y axis values for alternate bar plot creation\n",
    "x_axis = number_mice_drug_df.index\n",
    "y_axis = number_mice_drug_df[\"Number of Mice\"].tolist()"
   ]
  },
  {
   "cell_type": "code",
   "execution_count": null,
   "metadata": {},
   "outputs": [],
   "source": [
    "# Generate a bar plot showing the total number of mice for each treatment throughout the course of the study using pandas. \n",
    "number_mice_drug_df.plot(kind='bar', legend=False)\n",
    "\n",
    "# Set main, x and y titles\n",
    "plt.title(\"Number of Mice for Each Treatment\")\n",
    "plt.xlabel(\"Drug Regimen\")\n",
    "plt.ylabel(\"Number of Mice\")\n",
    "\n",
    "# Format bar plot\n",
    "plt.tight_layout()\n",
    "\n",
    "# Show bar plot\n",
    "plt.show()"
   ]
  },
  {
   "cell_type": "code",
   "execution_count": null,
   "metadata": {},
   "outputs": [],
   "source": [
    "# Generate a bar plot showing the total number of mice for each treatment throughout the course of the study using pyplot.\n",
    "plt.bar(x_axis, y_axis)\n",
    "\n",
    "# Set main, x and y titles\n",
    "plt.title(\"Number of Mice for Each Treatment\")\n",
    "plt.xlabel(\"Drug Regimen\")\n",
    "plt.ylabel(\"Number of Mice\")\n",
    "\n",
    "# Format bar plot\n",
    "plt.xticks(rotation=90)\n",
    "plt.tight_layout()\n",
    "\n",
    "# Show bar plot\n",
    "plt.show()"
   ]
  },
  {
   "cell_type": "code",
   "execution_count": null,
   "metadata": {},
   "outputs": [],
   "source": [
    "# Group the cleaned data to find the distribution of female versus male mice\n",
    "sex_group = clean_combined_data_df.groupby('Sex')\n",
    "sex_count = sex_group[\"Mouse ID\"].nunique()\n",
    "\n",
    "# Show series\n",
    "sex_count"
   ]
  },
  {
   "cell_type": "code",
   "execution_count": null,
   "metadata": {},
   "outputs": [],
   "source": [
    "# Create a Dataframe from this series\n",
    "sex_count_df = pd.DataFrame({\"Number of Mice\": sex_count})\n",
    "\n",
    "# Show dataframe\n",
    "sex_count_df"
   ]
  },
  {
   "cell_type": "code",
   "execution_count": null,
   "metadata": {},
   "outputs": [],
   "source": [
    "# Specify labels, values and colours for pie plot creation and formatting\n",
    "labels = sex_count_df.index\n",
    "values = sex_count_df[\"Number of Mice\"].tolist()\n",
    "colors = [\"pink\", \"lightblue\"]"
   ]
  },
  {
   "cell_type": "code",
   "execution_count": null,
   "metadata": {},
   "outputs": [],
   "source": [
    "# Generate a pie plot showing the distribution of female versus male mice using pandas, set formatting and title\n",
    "pie_plot = sex_count.plot.pie(autopct=\"%1.1f%%\", ylabel=(''), colors=colors, shadow=True, startangle=90, title='Distribution by Sex')\n",
    "\n",
    "# Show pie plot\n",
    "plt.show()"
   ]
  },
  {
   "cell_type": "code",
   "execution_count": null,
   "metadata": {},
   "outputs": [],
   "source": [
    "# Generate a pie plot showing the distribution of female versus male mice using pyplot, set formatting and title\n",
    "plt.pie(values, labels=labels, autopct='%1.1f%%', colors=colors, shadow=True, startangle=90)\n",
    "\n",
    "# Set pie plot title\n",
    "plt.title(\"Distribution by Sex\")\n",
    "\n",
    "# Show pie plot\n",
    "plt.show()"
   ]
  },
  {
   "cell_type": "markdown",
   "metadata": {},
   "source": [
    "## Quartiles, Outliers and Boxplots"
   ]
  },
  {
   "cell_type": "code",
   "execution_count": null,
   "metadata": {},
   "outputs": [],
   "source": [
    "# Calculate the final tumor volume of each mouse across four of the treatment regimens:  \n",
    "# Capomulin, Ramicane, Infubinol, and Ceftamin\n",
    "\n",
    "# Start by getting the last (greatest) timepoint for each mouse\n",
    "max_timepoint_df = pd.DataFrame(clean_combined_data_df.groupby('Mouse ID')['Timepoint'].max().sort_values())\n",
    "\n",
    "# Merge this group df with the original dataframe to get the tumor volume at the last timepoint\n",
    "merged_df = pd.merge(clean_combined_data_df, max_timepoint_df, on='Mouse ID')\n",
    "merged_df = merged_df.rename(columns={'Timepoint_x': 'Timepoint', 'Timepoint_y': 'Max Timepoint'})\n",
    "\n",
    "merged_df.head()"
   ]
  },
  {
   "cell_type": "code",
   "execution_count": null,
   "metadata": {},
   "outputs": [],
   "source": [
    "# Put treatments into a list for for loop (and later for plot labels)\n",
    "regimens = ['Capomulin', 'Ramicane', 'Infubinol', 'Ceftamin']\n",
    "\n",
    "# Create empty list to fill with tumor vol data (for plotting)\n",
    "tumor_vol = []\n",
    "\n",
    "# Calculate the IQR and quantitatively determine if there are any potential outliers.\n",
    "for regimen in regimens:\n",
    "    \n",
    "    # Locate the rows which contain mice on each drug and get the tumor volumes\n",
    "    regimen_df = merged_df.loc[merged_df['Drug Regimen'] == regimen]  \n",
    "    \n",
    "    # add subset\n",
    "    final_volume_df = regimen_df.loc[regimen_df['Timepoint'] == regimen_df['Max Timepoint']]\n",
    "    \n",
    "    # Create a series that appends all final volume values for each regimen into tumor_vol list\n",
    "    final_vol = final_volume_df['Tumor Volume (mm3)']\n",
    "    tumor_vol.append(final_vol)\n",
    "    \n",
    "    # Calculate the IQR for each drug regimen\n",
    "    quartiles = final_vol.quantile([.25,.5,.75])\n",
    "    lowerq = quartiles[0.25]\n",
    "    upperq = quartiles[0.75]\n",
    "    iqr = upperq-lowerq\n",
    "    print(f'The IQR for {regimen}: {iqr}')\n",
    "    \n",
    "    # Determine outliers using upper and lower bounds for each regimen\n",
    "    lower_bound = lowerq - (1.5*iqr)\n",
    "    upper_bound = upperq + (1.5*iqr)\n",
    "    print(f'Lower Bound for {regimen}: {lower_bound}')\n",
    "    print(f'Upper Bound for {regimen}: {upper_bound}')\n",
    "    \n",
    "    # Check for and count outliers\n",
    "    outliers = (final_vol.loc[(merged_df['Tumor Volume (mm3)'] >= upper_bound) | \n",
    "                              (merged_df['Tumor Volume (mm3)'] <= lower_bound)]).count()\n",
    "    print(f'Number of {regimen} outliers: {outliers}')\n",
    "    print(f\"---------------------------------------------\")"
   ]
  },
  {
   "cell_type": "code",
   "execution_count": null,
   "metadata": {},
   "outputs": [],
   "source": [
    "# Identify Infubinol outlier\n",
    "\n",
    "# Locate the rows which contain mice on Infubinol and get the tumor volumes\n",
    "regimen_df = merged_df.loc[merged_df['Drug Regimen'] == ('Infubinol')]  \n",
    "    \n",
    "# add subset\n",
    "final_volume_df = regimen_df.loc[regimen_df['Timepoint'] == regimen_df['Max Timepoint']]\n",
    "    \n",
    "# Create a series that appends all final volume values for Infubinol into tumor_vol list\n",
    "final_vol = final_volume_df['Tumor Volume (mm3)']\n",
    "tumor_vol.append(final_vol)\n",
    "    \n",
    "# Calculate the IQR for each Infubinol\n",
    "quartiles = final_vol.quantile([.25,.5,.75])\n",
    "lowerq = quartiles[0.25]\n",
    "upperq = quartiles[0.75]\n",
    "iqr = upperq-lowerq\n",
    "   \n",
    "# Determine outliers using upper and lower bounds for Infubinol\n",
    "lower_bound = lowerq - (1.5*iqr)\n",
    "upper_bound = upperq + (1.5*iqr)\n",
    "    \n",
    "# Check for and count outliers\n",
    "outlier = (final_vol.loc[(merged_df['Tumor Volume (mm3)'] >= upper_bound) | \n",
    "                          (merged_df['Tumor Volume (mm3)'] <= lower_bound)])\n",
    "\n",
    "index = list(outlier.index)\n",
    "index\n"
   ]
  },
  {
   "cell_type": "code",
   "execution_count": null,
   "metadata": {},
   "outputs": [],
   "source": [
    "mouse_id = final_volume_df.at[669,'Mouse ID']\n",
    "mouse_id"
   ]
  },
  {
   "cell_type": "code",
   "execution_count": null,
   "metadata": {},
   "outputs": [],
   "source": [
    "print(f'The Mouse ID of the Infubinol outlier is: {mouse_id}')"
   ]
  },
  {
   "cell_type": "code",
   "execution_count": null,
   "metadata": {},
   "outputs": [],
   "source": []
  },
  {
   "cell_type": "code",
   "execution_count": null,
   "metadata": {},
   "outputs": [],
   "source": [
    "# Generate a box plot of the final tumor volume of each mouse across four regimens of interest\n",
    "fig1, ax1 = plt.subplots()\n",
    "\n",
    "\n",
    "ax1.boxplot(tumor_vol)\n",
    "\n",
    "#  ax1.set_title('Reaction Times at Baseball Batting Cage')\n",
    "ax1.set_ylabel('Final Tumor Volume (mm3)')\n",
    "\n",
    "plt.show()"
   ]
  },
  {
   "cell_type": "markdown",
   "metadata": {},
   "source": [
    "## Line and Scatter Plots"
   ]
  },
  {
   "cell_type": "code",
   "execution_count": null,
   "metadata": {},
   "outputs": [],
   "source": [
    "# Generate a line plot of time point versus tumor volume for a mouse treated with Capomulin\n"
   ]
  },
  {
   "cell_type": "code",
   "execution_count": null,
   "metadata": {},
   "outputs": [],
   "source": [
    "# Generate a scatter plot of mouse weight versus average tumor volume for the Capomulin regimen\n"
   ]
  },
  {
   "cell_type": "markdown",
   "metadata": {},
   "source": [
    "## Correlation and Regression"
   ]
  },
  {
   "cell_type": "code",
   "execution_count": null,
   "metadata": {},
   "outputs": [],
   "source": [
    "# Calculate the correlation coefficient and linear regression model \n",
    "# for mouse weight and average tumor volume for the Capomulin regimen\n"
   ]
  },
  {
   "cell_type": "code",
   "execution_count": null,
   "metadata": {},
   "outputs": [],
   "source": []
  }
 ],
 "metadata": {
  "anaconda-cloud": {},
  "kernelspec": {
   "display_name": "Python 3",
   "language": "python",
   "name": "python3"
  },
  "language_info": {
   "codemirror_mode": {
    "name": "ipython",
    "version": 3
   },
   "file_extension": ".py",
   "mimetype": "text/x-python",
   "name": "python",
   "nbconvert_exporter": "python",
   "pygments_lexer": "ipython3",
   "version": "3.8.5"
  }
 },
 "nbformat": 4,
 "nbformat_minor": 2
}
